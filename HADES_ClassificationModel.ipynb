{
 "cells": [
  {
   "cell_type": "markdown",
   "id": "57c342e9",
   "metadata": {
    "id": "57c342e9"
   },
   "source": [
    "# ML Classification Algorithm for Hate Speech Detection"
   ]
  },
  {
   "cell_type": "markdown",
   "id": "5b6aeb59",
   "metadata": {
    "id": "5b6aeb59"
   },
   "source": [
    "*Creating a Basic Classification Algorithm that can be trained on a dataset of tweets labeled as hate speech, offensive, or neither, and can predict the class of a new tweet.*"
   ]
  },
  {
   "cell_type": "markdown",
   "id": "46f91922",
   "metadata": {
    "id": "46f91922"
   },
   "source": [
    "### Reading Dataset from file"
   ]
  },
  {
   "cell_type": "code",
   "execution_count": 1,
   "id": "xtQOyBqUx60L",
   "metadata": {
    "colab": {
     "base_uri": "https://localhost:8080/"
    },
    "id": "xtQOyBqUx60L",
    "outputId": "bdb47365-a4e5-49d5-9af6-d2c1b7f152d8"
   },
   "outputs": [],
   "source": [
    "import pandas as pd\n",
    "\n",
    "labeled_hate_speech= pd.read_csv(\"labeled_data.csv\")"
   ]
  },
  {
   "cell_type": "markdown",
   "id": "5410b65d",
   "metadata": {},
   "source": [
    "### Exploratory Data Analysis"
   ]
  },
  {
   "cell_type": "code",
   "execution_count": 2,
   "id": "f39dd023",
   "metadata": {
    "colab": {
     "base_uri": "https://localhost:8080/"
    },
    "id": "f39dd023",
    "outputId": "e267b4fe-c6a2-4a2a-c2a7-3ef965fc0959"
   },
   "outputs": [
    {
     "data": {
      "text/plain": [
       "Index(['Unnamed: 0', 'count', 'hate_speech', 'offensive_language', 'neither',\n",
       "       'class', 'tweet'],\n",
       "      dtype='object')"
      ]
     },
     "execution_count": 2,
     "metadata": {},
     "output_type": "execute_result"
    }
   ],
   "source": [
    "#Columns of Dataset\n",
    "labeled_hate_speech.columns"
   ]
  },
  {
   "cell_type": "code",
   "execution_count": 3,
   "id": "16f27543",
   "metadata": {
    "colab": {
     "base_uri": "https://localhost:8080/"
    },
    "id": "16f27543",
    "outputId": "a7cf9b0a-8613-4531-a5c8-c8c13677ea52"
   },
   "outputs": [
    {
     "name": "stdout",
     "output_type": "stream",
     "text": [
      "         Unnamed: 0         count   hate_speech  offensive_language  \\\n",
      "count  24783.000000  24783.000000  24783.000000        24783.000000   \n",
      "mean   12681.192027      3.243473      0.280515            2.413711   \n",
      "std     7299.553863      0.883060      0.631851            1.399459   \n",
      "min        0.000000      3.000000      0.000000            0.000000   \n",
      "25%     6372.500000      3.000000      0.000000            2.000000   \n",
      "50%    12703.000000      3.000000      0.000000            3.000000   \n",
      "75%    18995.500000      3.000000      0.000000            3.000000   \n",
      "max    25296.000000      9.000000      7.000000            9.000000   \n",
      "\n",
      "            neither         class  \n",
      "count  24783.000000  24783.000000  \n",
      "mean       0.549247      1.110277  \n",
      "std        1.113299      0.462089  \n",
      "min        0.000000      0.000000  \n",
      "25%        0.000000      1.000000  \n",
      "50%        0.000000      1.000000  \n",
      "75%        0.000000      1.000000  \n",
      "max        9.000000      2.000000  \n"
     ]
    }
   ],
   "source": [
    "# Obtaining summary of dataset\n",
    "print(labeled_hate_speech.describe())"
   ]
  },
  {
   "cell_type": "code",
   "execution_count": 4,
   "id": "cfe22f62",
   "metadata": {},
   "outputs": [
    {
     "data": {
      "text/html": [
       "<div>\n",
       "<style scoped>\n",
       "    .dataframe tbody tr th:only-of-type {\n",
       "        vertical-align: middle;\n",
       "    }\n",
       "\n",
       "    .dataframe tbody tr th {\n",
       "        vertical-align: top;\n",
       "    }\n",
       "\n",
       "    .dataframe thead th {\n",
       "        text-align: right;\n",
       "    }\n",
       "</style>\n",
       "<table border=\"1\" class=\"dataframe\">\n",
       "  <thead>\n",
       "    <tr style=\"text-align: right;\">\n",
       "      <th></th>\n",
       "      <th>Unnamed: 0</th>\n",
       "      <th>count</th>\n",
       "      <th>hate_speech</th>\n",
       "      <th>offensive_language</th>\n",
       "      <th>neither</th>\n",
       "      <th>class</th>\n",
       "      <th>tweet</th>\n",
       "    </tr>\n",
       "  </thead>\n",
       "  <tbody>\n",
       "    <tr>\n",
       "      <th>0</th>\n",
       "      <td>0</td>\n",
       "      <td>3</td>\n",
       "      <td>0</td>\n",
       "      <td>0</td>\n",
       "      <td>3</td>\n",
       "      <td>2</td>\n",
       "      <td>!!! RT @mayasolovely: As a woman you shouldn't...</td>\n",
       "    </tr>\n",
       "    <tr>\n",
       "      <th>1</th>\n",
       "      <td>1</td>\n",
       "      <td>3</td>\n",
       "      <td>0</td>\n",
       "      <td>3</td>\n",
       "      <td>0</td>\n",
       "      <td>1</td>\n",
       "      <td>!!!!! RT @mleew17: boy dats cold...tyga dwn ba...</td>\n",
       "    </tr>\n",
       "    <tr>\n",
       "      <th>2</th>\n",
       "      <td>2</td>\n",
       "      <td>3</td>\n",
       "      <td>0</td>\n",
       "      <td>3</td>\n",
       "      <td>0</td>\n",
       "      <td>1</td>\n",
       "      <td>!!!!!!! RT @UrKindOfBrand Dawg!!!! RT @80sbaby...</td>\n",
       "    </tr>\n",
       "    <tr>\n",
       "      <th>3</th>\n",
       "      <td>3</td>\n",
       "      <td>3</td>\n",
       "      <td>0</td>\n",
       "      <td>2</td>\n",
       "      <td>1</td>\n",
       "      <td>1</td>\n",
       "      <td>!!!!!!!!! RT @C_G_Anderson: @viva_based she lo...</td>\n",
       "    </tr>\n",
       "    <tr>\n",
       "      <th>4</th>\n",
       "      <td>4</td>\n",
       "      <td>6</td>\n",
       "      <td>0</td>\n",
       "      <td>6</td>\n",
       "      <td>0</td>\n",
       "      <td>1</td>\n",
       "      <td>!!!!!!!!!!!!! RT @ShenikaRoberts: The shit you...</td>\n",
       "    </tr>\n",
       "  </tbody>\n",
       "</table>\n",
       "</div>"
      ],
      "text/plain": [
       "   Unnamed: 0  count  hate_speech  offensive_language  neither  class  \\\n",
       "0           0      3            0                   0        3      2   \n",
       "1           1      3            0                   3        0      1   \n",
       "2           2      3            0                   3        0      1   \n",
       "3           3      3            0                   2        1      1   \n",
       "4           4      6            0                   6        0      1   \n",
       "\n",
       "                                               tweet  \n",
       "0  !!! RT @mayasolovely: As a woman you shouldn't...  \n",
       "1  !!!!! RT @mleew17: boy dats cold...tyga dwn ba...  \n",
       "2  !!!!!!! RT @UrKindOfBrand Dawg!!!! RT @80sbaby...  \n",
       "3  !!!!!!!!! RT @C_G_Anderson: @viva_based she lo...  \n",
       "4  !!!!!!!!!!!!! RT @ShenikaRoberts: The shit you...  "
      ]
     },
     "execution_count": 4,
     "metadata": {},
     "output_type": "execute_result"
    }
   ],
   "source": [
    "# Checking values of each column\n",
    "labeled_hate_speech.head()"
   ]
  },
  {
   "cell_type": "code",
   "execution_count": 5,
   "id": "762f6764",
   "metadata": {
    "colab": {
     "base_uri": "https://localhost:8080/"
    },
    "id": "762f6764",
    "outputId": "b573850e-9024-483b-c1fe-f8be154f03d6"
   },
   "outputs": [
    {
     "name": "stdout",
     "output_type": "stream",
     "text": [
      "       Unnamed: 0  class                                              tweet\n",
      "0               0      2  !!! RT @mayasolovely: As a woman you shouldn't...\n",
      "1               1      1  !!!!! RT @mleew17: boy dats cold...tyga dwn ba...\n",
      "2               2      1  !!!!!!! RT @UrKindOfBrand Dawg!!!! RT @80sbaby...\n",
      "3               3      1  !!!!!!!!! RT @C_G_Anderson: @viva_based she lo...\n",
      "4               4      1  !!!!!!!!!!!!! RT @ShenikaRoberts: The shit you...\n",
      "...           ...    ...                                                ...\n",
      "24778       25291      1  you's a muthaf***in lie &#8220;@LifeAsKing: @2...\n",
      "24779       25292      2  you've gone and broke the wrong heart baby, an...\n",
      "24780       25294      1  young buck wanna eat!!.. dat nigguh like I ain...\n",
      "24781       25295      1              youu got wild bitches tellin you lies\n",
      "24782       25296      2  ~~Ruffled | Ntac Eileen Dahlia - Beautiful col...\n",
      "\n",
      "[24783 rows x 3 columns]\n"
     ]
    }
   ],
   "source": [
    "#Only the last two columns, class & tweet, are required for classification\n",
    "\n",
    "labeled_hate_speech[['class','tweet']]\n",
    "\n",
    "labeled_hate_speech.drop(['hate_speech','count','offensive_language','neither'],axis=1,inplace=True)\n",
    "\n",
    "print(labeled_hate_speech)"
   ]
  },
  {
   "cell_type": "markdown",
   "id": "b27db4b3",
   "metadata": {
    "id": "b27db4b3"
   },
   "source": [
    "#### Analysing Dataset for Classification"
   ]
  },
  {
   "cell_type": "code",
   "execution_count": 6,
   "id": "0bf5676b",
   "metadata": {
    "colab": {
     "base_uri": "https://localhost:8080/",
     "height": 314
    },
    "id": "0bf5676b",
    "outputId": "7de06fd4-2b10-443a-b179-0acbec26fbde"
   },
   "outputs": [
    {
     "name": "stdout",
     "output_type": "stream",
     "text": [
      "[2 1 0]\n"
     ]
    },
    {
     "data": {
      "image/png": "[encoded data removed]",
      "text/plain": [
       "<Figure size 432x288 with 1 Axes>"
      ]
     },
     "metadata": {
      "needs_background": "light"
     },
     "output_type": "display_data"
    }
   ],
   "source": [
    "#Analysing the Distribution of the Dataset\n",
    "\n",
    "print(labeled_hate_speech['class'].unique())\n",
    "\n",
    "from matplotlib import pyplot as plt\n",
    "\n",
    "fig,ax=plt.subplots(1,1)\n",
    "ax.hist(labeled_hate_speech['class'],bins=[0,1,2,3],rwidth=0.9)\n",
    "ax.set_xlabel('CLASS')\n",
    "ax.set_xticks((0.5,1.5,2.5))\n",
    "ax.set_xticklabels(('Hateful','Offensive','Neither'))\n",
    "ax.set_ylabel('# TWEETS')\n",
    "\n",
    "plt.savefig('histogram.jpg')"
   ]
  },
  {
   "cell_type": "markdown",
   "id": "7pKCVpIfb7Ae",
   "metadata": {
    "id": "7pKCVpIfb7Ae"
   },
   "source": [
    "### Data Pre-Processing"
   ]
  },
  {
   "cell_type": "markdown",
   "id": "83bfecee",
   "metadata": {
    "id": "83bfecee"
   },
   "source": [
    "#### Cleaning the Tweets using Spacy"
   ]
  },
  {
   "cell_type": "code",
   "execution_count": 7,
   "id": "b10af6ed",
   "metadata": {
    "id": "b10af6ed"
   },
   "outputs": [
    {
     "data": {
      "text/plain": [
       "' test sentence second sentence 2 sentence'"
      ]
     },
     "execution_count": 7,
     "metadata": {},
     "output_type": "execute_result"
    }
   ],
   "source": [
    "import spacy\n",
    "#Loading English pipeline\n",
    "nlp = spacy.load(\"en_core_web_sm\")\n",
    "\n",
    "#Function to remove stopwords, punctuation and blank spaces and convert all text to lowercase \n",
    "def text_pipeline_spacy(text):\n",
    "    token_string=\"\"\n",
    "    tokens = []\n",
    "    doc = nlp(text)\n",
    "    for t in doc:\n",
    "        if not t.is_stop and not t.is_punct and not t.is_space:\n",
    "            tokens.append(t.lemma_.lower())\n",
    "    for t in tokens:\n",
    "      token_string = \" \".join([token_string, str(t)])\n",
    "    return token_string\n",
    "\n",
    "\n",
    "text_pipeline_spacy(\"This is a test sentence. This is the second sentence. Now we have 2 sentences\")"
   ]
  },
  {
   "cell_type": "code",
   "execution_count": 8,
   "id": "ZYBz6cKZ-AXk",
   "metadata": {
    "colab": {
     "base_uri": "https://localhost:8080/"
    },
    "id": "ZYBz6cKZ-AXk",
    "outputId": "5bbee047-266e-4795-a3f4-51f66e14aad2"
   },
   "outputs": [
    {
     "name": "stderr",
     "output_type": "stream",
     "text": [
      "  0%|                                                                              | 11/24783 [00:00<04:06, 100.32it/s]"
     ]
    },
    {
     "name": "stdout",
     "output_type": "stream",
     "text": [
      "!!! RT @mayasolovely: As a woman you shouldn't complain about cleaning up your house. &amp; as a man you should always take the trash out...\n",
      " rt @mayasolovely woman complain clean house amp man trash\n"
     ]
    },
    {
     "name": "stderr",
     "output_type": "stream",
     "text": [
      "100%|███████████████████████████████████████████████████████████████████████████| 24783/24783 [02:04<00:00, 198.57it/s]\n"
     ]
    }
   ],
   "source": [
    "\n",
    "#Testing pipeling with one tweet\n",
    "print(labeled_hate_speech['tweet'][0])\n",
    "print(text_pipeline_spacy(labeled_hate_speech['tweet'][0]))\n",
    "\n",
    "cleaned_tweet=[]\n",
    "\n",
    "# Implementing the text pre-processing pipeline to entire dataset\n",
    "from tqdm import tqdm\n",
    "for tweet in tqdm(labeled_hate_speech['tweet']):\n",
    "  cleaned_tweet.append(text_pipeline_spacy(tweet))"
   ]
  },
  {
   "cell_type": "code",
   "execution_count": 9,
   "id": "63XjDy0JCn-q",
   "metadata": {
    "id": "63XjDy0JCn-q"
   },
   "outputs": [],
   "source": [
    "# Adding Cleaned tweets to dataframe\n",
    "labeled_hate_speech['cleaned_tweet'] = cleaned_tweet\n"
   ]
  },
  {
   "cell_type": "code",
   "execution_count": 10,
   "id": "ubeqQd5wSgkT",
   "metadata": {
    "colab": {
     "base_uri": "https://localhost:8080/"
    },
    "id": "ubeqQd5wSgkT",
    "outputId": "cd4dba25-c2e8-46fc-c803-52d2dcb5c41c"
   },
   "outputs": [
    {
     "name": "stdout",
     "output_type": "stream",
     "text": [
      "Original Tweet:  \" Keeks is a bitch she curves everyone \" lol I walked into a conversation like this. Smh\n",
      "Pre-Processed Tweet:   keeks bitch curve lol walk conversation like smh\n",
      "\n",
      "\n",
      "Original Tweet:  \" Murda Gang bitch its Gang Land \"\n",
      "Pre-Processed Tweet:   murda gang bitch gang land\n",
      "\n",
      "\n",
      "Original Tweet:  \" So hoes that smoke are losers ? \" yea ... go on IG\n",
      "Pre-Processed Tweet:   hoe smoke loser yea ig\n",
      "\n",
      "\n"
     ]
    }
   ],
   "source": [
    "#Displaying results of data pre-processing \n",
    "\n",
    "for i in range(3):\n",
    "  print(\"Original Tweet:  \" + labeled_hate_speech['tweet'][i+10])\n",
    "  \n",
    "  print(\"Pre-Processed Tweet:  \"+ labeled_hate_speech['cleaned_tweet'][i+10]+\"\\n\\n\")\n",
    "\n"
   ]
  },
  {
   "cell_type": "markdown",
   "id": "HeCZoJtEXcHY",
   "metadata": {
    "id": "HeCZoJtEXcHY"
   },
   "source": [
    "#### Train and Test Split"
   ]
  },
  {
   "cell_type": "code",
   "execution_count": 11,
   "id": "ymv5q2zBXZnO",
   "metadata": {
    "colab": {
     "base_uri": "https://localhost:8080/"
    },
    "id": "ymv5q2zBXZnO",
    "outputId": "572f5c32-14b1-4278-ae56-df77bd96fe78"
   },
   "outputs": [
    {
     "name": "stdout",
     "output_type": "stream",
     "text": [
      "Training Data %:  85.0\n",
      "\n",
      "Testing Data  %:  15.0\n"
     ]
    }
   ],
   "source": [
    "from sklearn.model_selection import train_test_split\n",
    "x = labeled_hate_speech['cleaned_tweet']\n",
    "y = labeled_hate_speech['class']\n",
    "\n",
    "train_data,test_data,train_labels,test_labels=train_test_split(x,y,test_size=0.15)\n",
    "\n",
    "\n",
    "print(\"Training Data %: \", round(train_data.shape[0]/24783*100,2))\n",
    "print(\"\\nTesting Data  %: \", round(test_data.shape[0]/24783*100,2))\n"
   ]
  },
  {
   "cell_type": "markdown",
   "id": "f_2VSdDQcLnD",
   "metadata": {
    "id": "f_2VSdDQcLnD"
   },
   "source": [
    "## Classification"
   ]
  },
  {
   "cell_type": "markdown",
   "id": "8aLKyWQwit3W",
   "metadata": {
    "id": "8aLKyWQwit3W"
   },
   "source": [
    "### Vectorizing Data"
   ]
  },
  {
   "cell_type": "markdown",
   "id": "kFu5TgpG2KgN",
   "metadata": {
    "id": "kFu5TgpG2KgN"
   },
   "source": [
    "###### One-Hot"
   ]
  },
  {
   "cell_type": "code",
   "execution_count": 31,
   "id": "66c35e9d",
   "metadata": {},
   "outputs": [],
   "source": [
    "from sklearn.feature_extraction.text import CountVectorizer\n",
    "\n",
    "one_hot_vectorizer = CountVectorizer(stop_words=['rt','want'],max_df=0.7)\n",
    "\n",
    "train_features = one_hot_vectorizer.fit_transform(train_data)\n",
    "test_features = one_hot_vectorizer.transform(test_data)"
   ]
  },
  {
   "cell_type": "code",
   "execution_count": 43,
   "id": "fMCArTb0ZU2m",
   "metadata": {
    "id": "fMCArTb0ZU2m"
   },
   "outputs": [],
   "source": [
    "from sklearn.feature_extraction.text import CountVectorizer\n",
    "'''\n",
    "Parameters used:\n",
    "    ngram_range: Range of n-values for different n-grams to be extracted\n",
    "    max_df: Maximum threshold of document frequency\n",
    "    stop_words: list of stop-words to be disregarded\n",
    "'''\n",
    "one_hot_vectorizer = CountVectorizer(stop_words=['rt','want'],ngram_range=(1,5),max_df=0.7)\n",
    "\n",
    "train_features = one_hot_vectorizer.fit_transform(train_data)\n",
    "test_features = one_hot_vectorizer.transform(test_data)"
   ]
  },
  {
   "cell_type": "markdown",
   "id": "oDI_q7XH2Mmi",
   "metadata": {
    "id": "oDI_q7XH2Mmi"
   },
   "source": [
    "###### TF - IDF"
   ]
  },
  {
   "cell_type": "code",
   "execution_count": 35,
   "id": "DTpcsBVG_2xz",
   "metadata": {
    "id": "DTpcsBVG_2xz"
   },
   "outputs": [],
   "source": [
    "from sklearn.feature_extraction.text import TfidfVectorizer\n",
    "'''\n",
    "Parameters used:\n",
    "    ngram_range: Range of n-values for different n-grams to be extracted\n",
    "    max_df: Maximum threshold of document frequency\n",
    "    stop_words: list of stop-words to be disregarded\n",
    "'''\n",
    "tfidf_vectorizer = TfidfVectorizer(stop_words=['rt','want'],ngram_range=(1,5),max_df=0.7)\n",
    "\n",
    "tfidf_train_features = tfidf_vectorizer.fit_transform(train_data)\n",
    "tfidf_test_features = tfidf_vectorizer.transform(test_data)"
   ]
  },
  {
   "cell_type": "code",
   "execution_count": 38,
   "id": "Rc_ZX5dMfcHQ",
   "metadata": {
    "colab": {
     "base_uri": "https://localhost:8080/"
    },
    "id": "Rc_ZX5dMfcHQ",
    "outputId": "40b75942-e768-4278-db6c-1721e5c774b4"
   },
   "outputs": [
    {
     "name": "stdout",
     "output_type": "stream",
     "text": [
      "Vocabulary Size:  478778\n"
     ]
    }
   ],
   "source": [
    "# Vocabulary Size (will be similar for both strategies)\n",
    "print(\"Vocabulary Size: \",len(one_hot_vectorizer.vocabulary_))\n"
   ]
  },
  {
   "cell_type": "markdown",
   "id": "363b9f53",
   "metadata": {
    "id": "4to_TRtvizv7"
   },
   "source": [
    "###  Evaluation Metrics"
   ]
  },
  {
   "cell_type": "code",
   "execution_count": 15,
   "id": "yCBe4Ri-icn3",
   "metadata": {
    "id": "yCBe4Ri-icn3"
   },
   "outputs": [],
   "source": [
    "from sklearn.metrics import classification_report\n",
    "from sklearn.metrics import confusion_matrix\n",
    "from sklearn.metrics import precision_score\n",
    "from sklearn.metrics import recall_score\n",
    "from sklearn.metrics import accuracy_score\n",
    "from sklearn.metrics import fbeta_score\n",
    "\n",
    "#Creating an Evaluation Metrics Table  for Classifiers\n",
    "\n",
    "def evaluation_summary(description, true_labels, predictions, target_classes=[\"0\",\"1\",\"2\"]):\n",
    "  print(\"\\nEvaluation for: \" + description)\n",
    "  print(classification_report(true_labels, predictions,  digits=3, zero_division=0))\n",
    "  print('\\nConfusion matrix:\\n',confusion_matrix(true_labels, predictions))\n"
   ]
  },
  {
   "cell_type": "markdown",
   "id": "bMpA_h7snIKK",
   "metadata": {
    "id": "bMpA_h7snIKK"
   },
   "source": [
    "### Classification Models"
   ]
  },
  {
   "cell_type": "markdown",
   "id": "5eba7b97",
   "metadata": {},
   "source": [
    "#### Dummy Classifier - Baseline"
   ]
  },
  {
   "cell_type": "code",
   "execution_count": 16,
   "id": "3e0a854b",
   "metadata": {},
   "outputs": [
    {
     "name": "stdout",
     "output_type": "stream",
     "text": [
      "\n",
      "Dummy Classifier(Uniform) :  0.3399677245831092\n",
      "\n",
      "Evaluation for: Dummy Classifier(Uniform)\n",
      "\n",
      "              precision    recall  f1-score   support\n",
      "\n",
      "           0      0.061     0.336     0.103       223\n",
      "           1      0.776     0.334     0.467      2867\n",
      "           2      0.174     0.344     0.231       628\n",
      "\n",
      "    accuracy                          0.336      3718\n",
      "   macro avg      0.337     0.338     0.267      3718\n",
      "weighted avg      0.631     0.336     0.405      3718\n",
      "\n",
      "\n",
      "Confusion matrix:\n",
      " [[ 75  67  81]\n",
      " [962 958 947]\n",
      " [202 210 216]]\n"
     ]
    }
   ],
   "source": [
    "from sklearn.dummy import DummyClassifier\n",
    "\n",
    "#Uniform Strategy generates predictions uniformly at random from the list of unique classes observed in train_labels\n",
    "\n",
    "dummy = DummyClassifier(strategy='uniform')\n",
    "dummy.fit(train_features, train_labels)\n",
    "\n",
    "print(\"\\nDummy Classifier(Uniform) : \", dummy.score(test_features, test_labels))\n",
    "dummy_predicted_labels = dummy.predict(test_features)\n",
    "evaluation_summary(\"Dummy Classifier(Uniform)\\n\", test_labels, dummy_predicted_labels)"
   ]
  },
  {
   "cell_type": "markdown",
   "id": "62a65dbc",
   "metadata": {},
   "source": [
    "#### Logistic Regression"
   ]
  },
  {
   "cell_type": "markdown",
   "id": "2zv1E4sf1nKE",
   "metadata": {
    "id": "2zv1E4sf1nKE"
   },
   "source": [
    "##### LR with One-Hot(TF) Vectorization"
   ]
  },
  {
   "cell_type": "code",
   "execution_count": 28,
   "id": "47ccdb1a",
   "metadata": {},
   "outputs": [
    {
     "name": "stdout",
     "output_type": "stream",
     "text": [
      "\n",
      "Logistic Regression (One-hot vectorization) :  0.9058633674018289\n",
      "\n",
      "Evaluation for: Logistic Regression (One-hot vectorization)\n",
      "              precision    recall  f1-score   support\n",
      "\n",
      "           0      0.520     0.229     0.318       223\n",
      "           1      0.932     0.959     0.945      2867\n",
      "           2      0.849     0.904     0.876       628\n",
      "\n",
      "    accuracy                          0.906      3718\n",
      "   macro avg      0.767     0.697     0.713      3718\n",
      "weighted avg      0.893     0.906     0.896      3718\n",
      "\n",
      "\n",
      "Confusion matrix:\n",
      " [[  51  144   28]\n",
      " [  45 2749   73]\n",
      " [   2   58  568]]\n"
     ]
    }
   ],
   "source": [
    "from sklearn.linear_model import LogisticRegression\n",
    "\n",
    "lr = LogisticRegression(solver = 'newton-cg')\n",
    "lr_model = lr.fit(train_features, train_labels)\n",
    "\n",
    "print(\"\\nLogistic Regression (One-hot vectorization) : \",lr_model.score(test_features,test_labels))\n",
    "lr_model_predicted_labels_test = lr_model.predict(test_features)\n",
    "evaluation_summary(\"Logistic Regression (One-hot vectorization)\", test_labels, lr_model_predicted_labels_test)"
   ]
  },
  {
   "cell_type": "markdown",
   "id": "184b8171",
   "metadata": {},
   "source": [
    "##### LR with One-Hot (TF) Vectorization and Class Weights"
   ]
  },
  {
   "cell_type": "code",
   "execution_count": 17,
   "id": "6gul9GjJmkw1",
   "metadata": {
    "colab": {
     "base_uri": "https://localhost:8080/"
    },
    "id": "6gul9GjJmkw1",
    "outputId": "d004e248-21f9-4506-f7d0-50a15e2e477b"
   },
   "outputs": [
    {
     "name": "stdout",
     "output_type": "stream",
     "text": [
      "\n",
      "Logistic Regression (One-hot vectorization) :  0.9055944055944056\n",
      "\n",
      "Evaluation for: Logistic Regression (One-hot vectorization)\n",
      "              precision    recall  f1-score   support\n",
      "\n",
      "           0      0.491     0.480     0.485       223\n",
      "           1      0.957     0.932     0.944      2867\n",
      "           2      0.832     0.936     0.881       628\n",
      "\n",
      "    accuracy                          0.906      3718\n",
      "   macro avg      0.760     0.783     0.770      3718\n",
      "weighted avg      0.908     0.906     0.906      3718\n",
      "\n",
      "\n",
      "Confusion matrix:\n",
      " [[ 107   87   29]\n",
      " [ 105 2672   90]\n",
      " [   6   34  588]]\n"
     ]
    }
   ],
   "source": [
    "from sklearn.linear_model import LogisticRegression\n",
    "\n",
    "class_wt = {0:13.4 ,1:1.0, 2:4.6}\n",
    "\n",
    "lr = LogisticRegression(solver = 'newton-cg',class_weight=class_wt)\n",
    "lr_model = lr.fit(train_features, train_labels)\n",
    "\n",
    "print(\"\\nLogistic Regression (One-hot vectorization) : \",lr_model.score(test_features,test_labels))\n",
    "lr_model_predicted_labels_test = lr_model.predict(test_features)\n",
    "evaluation_summary(\"Logistic Regression (One-hot vectorization)\", test_labels, lr_model_predicted_labels_test)\n"
   ]
  },
  {
   "cell_type": "markdown",
   "id": "uMq1KlOH17WC",
   "metadata": {
    "id": "uMq1KlOH17WC"
   },
   "source": [
    "###### LR with TF-IDF Vectorization"
   ]
  },
  {
   "cell_type": "code",
   "execution_count": 18,
   "id": "QjfjTeOtAwbN",
   "metadata": {
    "colab": {
     "base_uri": "https://localhost:8080/"
    },
    "id": "QjfjTeOtAwbN",
    "outputId": "8b957f0b-ed55-434d-e8c4-8d82cbd15614"
   },
   "outputs": [
    {
     "name": "stdout",
     "output_type": "stream",
     "text": [
      "\n",
      "Logistic Regression (TF-IDF Vectorization) :  0.8803119956966111\n",
      "\n",
      "Evaluation for: Logistic Regression (TF-IDF Vectorization)\n",
      "              precision    recall  f1-score   support\n",
      "\n",
      "           0      0.542     0.233     0.326       223\n",
      "           1      0.896     0.963     0.928      2867\n",
      "           2      0.852     0.732     0.788       628\n",
      "\n",
      "    accuracy                          0.880      3718\n",
      "   macro avg      0.763     0.643     0.681      3718\n",
      "weighted avg      0.867     0.880     0.868      3718\n",
      "\n",
      "\n",
      "Confusion matrix:\n",
      " [[  52  153   18]\n",
      " [  44 2761   62]\n",
      " [   0  168  460]]\n"
     ]
    }
   ],
   "source": [
    "lr_tfidf = LogisticRegression()\n",
    "lr_tfidf_model = lr_tfidf.fit(tfidf_train_features, train_labels)\n",
    "\n",
    "print(\"\\nLogistic Regression (TF-IDF Vectorization) : \",lr_tfidf_model.score(tfidf_test_features,test_labels))\n",
    "lr_model_tfidf_predicted_labels_test = lr_tfidf_model.predict(tfidf_test_features)\n",
    "evaluation_summary(\"Logistic Regression (TF-IDF Vectorization)\", test_labels, lr_model_tfidf_predicted_labels_test)"
   ]
  },
  {
   "cell_type": "markdown",
   "id": "48ea2eae",
   "metadata": {},
   "source": [
    "#### Support Vector Machines"
   ]
  },
  {
   "cell_type": "markdown",
   "id": "3jxof-y-11b3",
   "metadata": {
    "id": "3jxof-y-11b3"
   },
   "source": [
    "###### SVC with One-Hot(TF) Vectorization"
   ]
  },
  {
   "cell_type": "code",
   "execution_count": 51,
   "id": "02c9810c",
   "metadata": {
    "colab": {
     "background_save": true
    },
    "id": "9G7k78uGBmGc",
    "outputId": "04d4767e-0600-44a3-e8b0-2bc88fe5da43"
   },
   "outputs": [
    {
     "name": "stdout",
     "output_type": "stream",
     "text": [
      "\n",
      "SVC Classifier (One-hot vectorization)) :  0.9031737493275955\n",
      "\n",
      "Evaluation for: SVC Classifier (One-hot vectorization)\n",
      "              precision    recall  f1-score   support\n",
      "\n",
      "           0      0.500     0.067     0.119       223\n",
      "           1      0.925     0.964     0.944      2867\n",
      "           2      0.828     0.922     0.873       628\n",
      "\n",
      "    accuracy                          0.903      3718\n",
      "   macro avg      0.751     0.651     0.645      3718\n",
      "weighted avg      0.883     0.903     0.882      3718\n",
      "\n",
      "\n",
      "Confusion matrix:\n",
      " [[  15  178   30]\n",
      " [  13 2764   90]\n",
      " [   2   47  579]]\n"
     ]
    }
   ],
   "source": [
    "from sklearn.svm import SVC\n",
    "svc_default = SVC(kernel = 'rbf')\n",
    "svc_default_model = svc_default.fit(train_features, train_labels)\n",
    "\n",
    "print(\"\\nSVC Classifier (One-hot vectorization)) : \",svc_default_model.score(test_features,test_labels))\n",
    "svc_default_model_predicted_labels = svc_default_model.predict(test_features)\n",
    "evaluation_summary(\"SVC Classifier (One-hot vectorization)\", test_labels, svc_default_model_predicted_labels)"
   ]
  },
  {
   "cell_type": "markdown",
   "id": "a7eaef48",
   "metadata": {},
   "source": [
    "###### SVC with One-Hot(TF) Vectorization and Class Weights"
   ]
  },
  {
   "cell_type": "code",
   "execution_count": 44,
   "id": "9G7k78uGBmGc",
   "metadata": {
    "colab": {
     "background_save": true
    },
    "id": "9G7k78uGBmGc",
    "outputId": "04d4767e-0600-44a3-e8b0-2bc88fe5da43"
   },
   "outputs": [
    {
     "name": "stdout",
     "output_type": "stream",
     "text": [
      "\n",
      "SVC Classifier (One-hot vectorization)) :  0.9039806347498656\n",
      "\n",
      "Evaluation for: SVC Classifier (One-hot vectorization)\n",
      "              precision    recall  f1-score   support\n",
      "\n",
      "           0      0.485     0.520     0.502       223\n",
      "           1      0.960     0.925     0.942      2867\n",
      "           2      0.828     0.943     0.882       628\n",
      "\n",
      "    accuracy                          0.904      3718\n",
      "   macro avg      0.758     0.796     0.775      3718\n",
      "weighted avg      0.909     0.904     0.906      3718\n",
      "\n",
      "\n",
      "Confusion matrix:\n",
      " [[ 116   80   27]\n",
      " [ 118 2653   96]\n",
      " [   5   31  592]]\n"
     ]
    }
   ],
   "source": [
    "from sklearn.svm import SVC\n",
    "\n",
    "#Default kernel is rbf,class weights are used to compensate for unbalanced dataset \n",
    "class_wt = {0:13.4 ,1:1.0, 2:4.6}\n",
    "svc = SVC(kernel = 'rbf',class_weight=class_wt)\n",
    "svc_model = svc.fit(train_features, train_labels)\n",
    "\n",
    "print(\"\\nSVC Classifier (One-hot vectorization)) : \",svc_model.score(test_features,test_labels))\n",
    "svc_model_predicted_labels_test = svc_model.predict(test_features)\n",
    "evaluation_summary(\"SVC Classifier (One-hot vectorization)\", test_labels, svc_model_predicted_labels_test)"
   ]
  },
  {
   "cell_type": "markdown",
   "id": "ZOCZbNE515P5",
   "metadata": {
    "id": "ZOCZbNE515P5"
   },
   "source": [
    "###### SVC with TF-IDF Vectorization"
   ]
  },
  {
   "cell_type": "code",
   "execution_count": 20,
   "id": "2ffdd86c",
   "metadata": {},
   "outputs": [
    {
     "name": "stdout",
     "output_type": "stream",
     "text": [
      "\n",
      "SVC Classifier (One-hot vectorization)) :  0.8870360408821947\n",
      "\n",
      "Evaluation for: SVC Classifier (One-hot vectorization)\n",
      "              precision    recall  f1-score   support\n",
      "\n",
      "           0      0.500     0.031     0.059       223\n",
      "           1      0.781     0.996     0.875      2867\n",
      "           2      0.848     0.062     0.116       628\n",
      "\n",
      "    accuracy                          0.781      3718\n",
      "   macro avg      0.710     0.363     0.350      3718\n",
      "weighted avg      0.775     0.781     0.698      3718\n",
      "\n",
      "\n",
      "Confusion matrix:\n",
      " [[   7  213    3]\n",
      " [   7 2856    4]\n",
      " [   0  589   39]]\n"
     ]
    }
   ],
   "source": [
    "#Default kernel is rbf,class weights are used to compensate for unbalanced dataset \n",
    "class_wt = {0:13.4 ,1:1.0, 2:4.6}\n",
    "svc_tfidf = SVC(kernel = 'rbf',class_weight=class_wt)\n",
    "svc_model_tfidf = svc_tfidf.fit(tfidf_train_features, train_labels)\n",
    "\n",
    "print(\"\\nSVC Classifier (One-hot vectorization)) : \",svc_model_tfidf.score(tfidf_test_features,test_labels))\n",
    "svc_model_tfidf_predicted_labels_test = svc_model_tfidf.predict(test_features)\n",
    "evaluation_summary(\"SVC Classifier (One-hot vectorization)\", test_labels, svc_model_tfidf_predicted_labels_test)"
   ]
  },
  {
   "cell_type": "code",
   "execution_count": 82,
   "id": "41f359bc",
   "metadata": {},
   "outputs": [
    {
     "data": {
      "image/png": "[encoded data removed]",
      "text/plain": [
       "<Figure size 1440x720 with 4 Axes>"
      ]
     },
     "metadata": {
      "needs_background": "light"
     },
     "output_type": "display_data"
    }
   ],
   "source": [
    "from sklearn.metrics import ConfusionMatrixDisplay\n",
    "import matplotlib.pyplot as plt\n",
    "\n",
    "cm = confusion_matrix(test_labels,svc_default_model_predicted_labels,labels=svc_default.classes_)\n",
    "disp = ConfusionMatrixDisplay(\n",
    "        cm,\n",
    "        display_labels=svc_default.classes_\n",
    "    )\n",
    "fig, ax = plt.subplots(1,2,figsize=(20,10))\n",
    "disp.plot(ax=ax[0])\n",
    "\n",
    "\n",
    "\n",
    "cm2 = confusion_matrix(test_labels,svc_model_predicted_labels_test,labels=svc.classes_)\n",
    "disp2 = ConfusionMatrixDisplay(\n",
    "        cm2,\n",
    "        display_labels=svc.classes_\n",
    "    )\n",
    "disp2.plot(ax=ax[1])\n",
    "\n",
    "ax[0].set_xticklabels(('Hateful','Offensive','Neither'))\n",
    "ax[0].set_yticklabels(('Hateful','Offensive','Neither'))\n",
    "\n",
    "\n",
    "ax[1].set_xticklabels(('Hateful','Offensive','Neither'))\n",
    "ax[1].set_yticklabels(('Hateful','Offensive','Neither'))\n",
    "\n",
    "ax[0].set_title(\"SVM Classifier with Default Params\\n\")\n",
    "ax[1].set_title(\"SVM Classifier with Custom Class Weights\\n\")\n",
    "\n",
    "\n",
    "\n",
    "plt.savefig('ConfusionMatrix.jpg')"
   ]
  },
  {
   "cell_type": "markdown",
   "id": "e4ce212b",
   "metadata": {},
   "source": [
    "## Feature Engineering"
   ]
  },
  {
   "cell_type": "markdown",
   "id": "254e8a15",
   "metadata": {},
   "source": [
    "#### VADER"
   ]
  },
  {
   "cell_type": "code",
   "execution_count": 47,
   "id": "ItdH9dAu9QTU",
   "metadata": {
    "colab": {
     "background_save": true
    },
    "id": "ItdH9dAu9QTU",
    "outputId": "38793edd-e922-423f-fb7d-71819ec5190d"
   },
   "outputs": [
    {
     "name": "stderr",
     "output_type": "stream",
     "text": [
      "[nltk_data] Downloading package vader_lexicon to\n",
      "[nltk_data]     C:\\Users\\vpsqu\\AppData\\Roaming\\nltk_data...\n",
      "[nltk_data]   Package vader_lexicon is already up-to-date!\n"
     ]
    }
   ],
   "source": [
    "#VADER Implementation. Not used in project.\n",
    "import nltk\n",
    "nltk.download('vader_lexicon')\n",
    "\n",
    "from nltk.sentiment.vader import SentimentIntensityAnalyzer\n",
    "sid = SentimentIntensityAnalyzer()"
   ]
  },
  {
   "cell_type": "code",
   "execution_count": 48,
   "id": "mcTodnQPpUnx",
   "metadata": {
    "colab": {
     "background_save": true
    },
    "id": "mcTodnQPpUnx",
    "outputId": "c6a9abcd-078d-4c9f-f4c4-bb0798d60cb3"
   },
   "outputs": [
    {
     "name": "stdout",
     "output_type": "stream",
     "text": [
      "[' rt @misterrrager 8220;@viridoesitt know trash tat list thing want nigga &#8221'] [0] {'neg': 0.0, 'neu': 0.885, 'pos': 0.115, 'compound': 0.0772}\n",
      "[' @pecan_b19 @obeymy_realnes dryer bad ass eye fag'] [0] {'neg': 0.256, 'neu': 0.331, 'pos': 0.413, 'compound': 0.2263}\n",
      "[' @mckinley719 @uberfact mmm thank save point time fuck queer'] [0] {'neg': 0.23, 'neu': 0.395, 'pos': 0.375, 'compound': 0.296}\n",
      "[' @karmendanielle aka wanna warm shoulda introduce coon'] [0] {'neg': 0.0, 'neu': 0.759, 'pos': 0.241, 'compound': 0.2263}\n",
      "[' okay @scubakitteh super dyke weird car sex fetish'] [0] {'neg': 0.136, 'neu': 0.4, 'pos': 0.464, 'compound': 0.6249}\n",
      "[' @haylebopp year explain queer theory acceptable academic term'] [0] {'neg': 0.0, 'neu': 0.753, 'pos': 0.247, 'compound': 0.3182}\n",
      "[' dyke chick cut hair barbershop look like future'] [0] {'neg': 0.198, 'neu': 0.566, 'pos': 0.236, 'compound': 0.1027}\n",
      "[' people think gay marriage okay sorry want future son see 2 fag walk street hold hand'] [0] {'neg': 0.212, 'neu': 0.481, 'pos': 0.308, 'compound': 0.25}\n",
      "[' rt @wwecrowe jerryspringer raw white trash applaud @wwe'] [0] {'neg': 0.0, 'neu': 0.7, 'pos': 0.3, 'compound': 0.4588}\n",
      "[' acting like spoiled little faggot fun'] [0] {'neg': 0.325, 'neu': 0.238, 'pos': 0.437, 'compound': 0.1065}\n",
      "[' 8220;@laneishaaaa @thompson_era pretty boy face&#8221 awee thank faggot'] [0] {'neg': 0.291, 'neu': 0.331, 'pos': 0.377, 'compound': 0.0772}\n"
     ]
    }
   ],
   "source": [
    "for i in range(1000):\n",
    "  test = [test_data.iloc[i]]\n",
    "  sample_test = one_hot_vectorizer.transform(test)\n",
    "  test_prediction = svc_model.predict(sample_test)\n",
    "  test_polarity_score = sid.polarity_scores(test[0])\n",
    "  if(test_prediction==0 and test_polarity_score['compound']>0):\n",
    "    print(test,test_prediction,test_polarity_score)"
   ]
  },
  {
   "cell_type": "code",
   "execution_count": null,
   "id": "f0182470",
   "metadata": {},
   "outputs": [],
   "source": []
  },
  {
   "cell_type": "markdown",
   "id": "a9e5a00b",
   "metadata": {},
   "source": [
    "## Rest API Creation"
   ]
  },
  {
   "cell_type": "code",
   "execution_count": 23,
   "id": "9c126d6a",
   "metadata": {},
   "outputs": [],
   "source": [
    "from flask import Flask\n",
    "from flask_restful import Resource, Api, reqparse"
   ]
  },
  {
   "cell_type": "markdown",
   "id": "073cbeff",
   "metadata": {},
   "source": [
    "#### REST API for Classifier"
   ]
  },
  {
   "cell_type": "code",
   "execution_count": 24,
   "id": "1cd649d6",
   "metadata": {},
   "outputs": [],
   "source": [
    "app = Flask(__name__)\n",
    "api = Api(app)\n",
    "\n",
    "from flask import json\n",
    "\n",
    "parser = reqparse.RequestParser()\n",
    "\n",
    "class ClassificationModel(Resource):\n",
    "    def get(self):\n",
    "        json = \"{prediction:\" + str(svc_model.predict(test_features[0])) + \"}\"\n",
    "        return  json, 200\n",
    "        #return ,200\n",
    "    def post(self):\n",
    "        parser.add_argument(\"text\")\n",
    "        args = parser.parse_args()\n",
    "        input_text = one_hot_vectorizer.transform([args[\"text\"]])\n",
    "       \n",
    "        json = \"{prediction:\" + str(svc_model.predict(input_text)) + \"}\"\n",
    "       \n",
    "        return  json, 200\n",
    "\n",
    "api.add_resource(ClassificationModel, '/model/')\n"
   ]
  },
  {
   "cell_type": "markdown",
   "id": "8e5bece3",
   "metadata": {},
   "source": [
    "#### REST API for Text Pre-processing"
   ]
  },
  {
   "cell_type": "code",
   "execution_count": 25,
   "id": "84604aaa",
   "metadata": {},
   "outputs": [],
   "source": [
    "#Not in Use for first iteration\n",
    "\n",
    "class TextPreProcessing(Resource):\n",
    "    def get(self):\n",
    "        json = \"{preprocessing:\" + text_pipeline_spacy(labeled_hate_speech['tweet'][0]) + \"}\"\n",
    "        return  json, 200\n",
    "        #return ,200\n",
    "    def post(self):\n",
    "        parser.add_argument(\"text\")\n",
    "        args1 = parser.parse_args()\n",
    "        print(args1)\n",
    "        input_text = text_pipeline_spacy(args1[\"text\"])\n",
    "        print(input_text)\n",
    "        json = \"{preprocessing:\" + input_text + \"}\"\n",
    "       \n",
    "        return  json, 200\n",
    "    \n",
    "api.add_resource(TextPreProcessing, '/preprocessing/')"
   ]
  },
  {
   "cell_type": "code",
   "execution_count": 27,
   "id": "f07274ad",
   "metadata": {},
   "outputs": [
    {
     "name": "stdout",
     "output_type": "stream",
     "text": [
      " * Serving Flask app \"__main__\" (lazy loading)\n",
      " * Environment: production\n",
      "   WARNING: This is a development server. Do not use it in a production deployment.\n",
      "   Use a production WSGI server instead.\n",
      " * Debug mode: on\n"
     ]
    },
    {
     "name": "stderr",
     "output_type": "stream",
     "text": [
      " * Running on http://127.0.0.1:5000/ (Press CTRL+C to quit)\n"
     ]
    }
   ],
   "source": [
    "if __name__ == \"__main__\":\n",
    "  app.run(debug=True, use_reloader=False)"
   ]
  },
  {
   "cell_type": "code",
   "execution_count": null,
   "id": "ea347835",
   "metadata": {},
   "outputs": [],
   "source": []
  },
  {
   "cell_type": "markdown",
   "id": "f113919b",
   "metadata": {},
   "source": [
    "## References"
   ]
  },
  {
   "cell_type": "markdown",
   "id": "ea1bd3aa",
   "metadata": {},
   "source": [
    "[1] REST API: https://www.blog.duomly.com/python-api-tutorial/\n",
    "\n",
    "[2] Spacy and Classification Models: COMPSCI5106: Text as Data Coursework\n",
    "\n",
    "[3] Dataset: https://github.com/t-davidson/hate-speech-and-offensive-language"
   ]
  }
 ],
 "metadata": {
  "accelerator": "GPU",
  "colab": {
   "name": "hatespeechdetection_v1.ipynb",
   "provenance": []
  },
  "gpuClass": "standard",
  "kernelspec": {
   "display_name": "Python 3",
   "language": "python",
   "name": "python3"
  },
  "language_info": {
   "codemirror_mode": {
    "name": "ipython",
    "version": 3
   },
   "file_extension": ".py",
   "mimetype": "text/x-python",
   "name": "python",
   "nbconvert_exporter": "python",
   "pygments_lexer": "ipython3",
   "version": "3.8.8"
  }
 },
 "nbformat": 4,
 "nbformat_minor": 5
}
